{
 "cells": [
  {
   "cell_type": "code",
   "execution_count": null,
   "id": "9ee7762b-4fc3-4c96-8b62-49e0d0fb3e35",
   "metadata": {},
   "outputs": [],
   "source": [
    "ANS.(1)"
   ]
  },
  {
   "cell_type": "code",
   "execution_count": null,
   "id": "ecaa025f-7765-4818-83e0-d5948cd36775",
   "metadata": {},
   "outputs": [],
   "source": [
    "Abstraction is the process of hiding the internal details of an application from the outer world. \n",
    "Example:Abstraction is present in almost all the real life machines.i.e.Car, I can start easily by key or button, but I don't need to know how the engine is getting started"
   ]
  },
  {
   "cell_type": "code",
   "execution_count": null,
   "id": "767b4d3f-139a-4502-add0-c4c1d6cffe87",
   "metadata": {},
   "outputs": [],
   "source": [
    "And.(2)"
   ]
  },
  {
   "cell_type": "code",
   "execution_count": null,
   "id": "5beebc51-b594-450e-8bc9-d06d82ea0546",
   "metadata": {},
   "outputs": [],
   "source": [
    "Aabstraction:Abstraction is a process of hiding unnecessary data and showing only relevant data.\n",
    "Example:Mobile phon, I can easily call anyone, but I don't need to find how it's works.\n",
    "\n",
    "Encapsulation:Encapsulation is a mechanism of wrapping the data (variables) and code acting on the data (methods) together as a single unit.\n",
    "Example:Consider a real-life example of encapsulation, in a company, there are different sections like the accounts section,\n",
    "finance section, sales section etc. The finance section handles all the financial transactions and keeps records of all the data related to finance. Similarly, the sales section handles all the sales-related activities and keeps records of all the sales.\n",
    "Now there may arise a situation when due to some reason an official from the finance section needs all the data about sales in a particular month. In this case, he is not allowed to directly access the data of the sales section. He will first have to contact some other officer in the sales section and then request him to give the particular data. This is what encapsulation is. Here the data of the sales section and the employees that can manipulate them are wrapped under a single name “sales section”. Using encapsulation also hides the data. \n",
    "In this example, the data of the sections like sales, finance, or accounts are hidden from any other section."
   ]
  },
  {
   "cell_type": "code",
   "execution_count": null,
   "id": "49c3791f-d504-4537-96cb-1826651f147d",
   "metadata": {},
   "outputs": [],
   "source": [
    "And.(3)"
   ]
  },
  {
   "cell_type": "code",
   "execution_count": null,
   "id": "9678b1ab-63e9-4c96-af82-2f15468c4872",
   "metadata": {},
   "outputs": [],
   "source": [
    "The abc module in Python stands for \"Abstract Base Classes\".\n",
    "It is a built-in module in Python that provides a way to define abstract base classes."
   ]
  },
  {
   "cell_type": "code",
   "execution_count": null,
   "id": "cf75546d-9c1b-4ed2-a726-b0c3cc3d8a99",
   "metadata": {},
   "outputs": [],
   "source": [
    "And.(4)"
   ]
  },
  {
   "cell_type": "code",
   "execution_count": null,
   "id": "885e4fc0-7b7a-486b-9c1d-fb2a39f36917",
   "metadata": {},
   "outputs": [],
   "source": [
    "Data Abstraction in Python can be achieved through creating abstract classes and inheriting them later."
   ]
  },
  {
   "cell_type": "code",
   "execution_count": null,
   "id": "cc87b15f-12f9-470a-aa84-e847b9d634a0",
   "metadata": {},
   "outputs": [],
   "source": [
    "And.(5)"
   ]
  },
  {
   "cell_type": "code",
   "execution_count": null,
   "id": "aa304908-7161-41f8-9257-df3597a2bea7",
   "metadata": {},
   "outputs": [],
   "source": [
    "Abstract classes are not complete, as they may have some methods that are not defined.\n",
    "So we cannot create an instance or object of an abstract class in Python."
   ]
  }
 ],
 "metadata": {
  "kernelspec": {
   "display_name": "Python 3 (ipykernel)",
   "language": "python",
   "name": "python3"
  },
  "language_info": {
   "codemirror_mode": {
    "name": "ipython",
    "version": 3
   },
   "file_extension": ".py",
   "mimetype": "text/x-python",
   "name": "python",
   "nbconvert_exporter": "python",
   "pygments_lexer": "ipython3",
   "version": "3.10.8"
  }
 },
 "nbformat": 4,
 "nbformat_minor": 5
}
